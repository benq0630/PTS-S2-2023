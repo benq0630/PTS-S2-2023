{
 "cells": [
  {
   "attachments": {},
   "cell_type": "markdown",
   "id": "debe1a5a",
   "metadata": {},
   "source": [
    "# COMP SCI 2009 PIT W01 Practical"
   ]
  },
  {
   "attachments": {},
   "cell_type": "markdown",
   "id": "015ea673",
   "metadata": {},
   "source": [
    "<!-- BEGIN QUESTION -->\n",
    "\n",
    "## Exercise 1: Binary Search (25%)"
   ]
  },
  {
   "attachments": {},
   "cell_type": "markdown",
   "id": "8bc5d249",
   "metadata": {},
   "source": [
    "In *Introduction to Applied Programming*, you coded a number guessing game in one of your practical assignments. In the assignment, the user was the one guessing the number, while the program told you if your guess is larger or smaller than the answer. In this exercise, you will do the opposite, i.e., the user inputs a number (between 0 ~ 999) and a number guessing AI continuously guesses the number (using a binary search method) according to the user response.\n",
    "\n",
    "**Example (<font color=red>red text</font> represents user input):**\n",
    "<pre>\n",
    "Please input a number (0~999): <font color=red>523</font>\n",
    "Is the number 500? <font color=red>larger</font>\n",
    "Is the number 725? <font color=red>smaller</font>\n",
    "Is the number 612? <font color=red>smaller</font>\n",
    "...\n",
    "Is the number 523? <font color=red>yes</font>\n",
    "</pre>"
   ]
  },
  {
   "cell_type": "code",
   "execution_count": 2,
   "id": "23da7ddd",
   "metadata": {
    "tags": []
   },
   "outputs": [
    {
     "name": "stdout",
     "output_type": "stream",
     "text": [
      "The number is 520.\n"
     ]
    }
   ],
   "source": [
    "# the range of the number\n",
    "left = 0\n",
    "right = 999\n",
    "\n",
    "# user input the answer\n",
    "answer = int(input('Please answer a number (0~999): '))\n",
    "\n",
    "# AI guessing loop starts\n",
    "cnt = 0\n",
    "while True:\n",
    "    # instead of random guess, AI should use binary search\n",
    "    # REPLACE the line below\n",
    "    guess = (left + right) // 2\n",
    "    response = input(f'Is the number {guess}?')\n",
    "    \n",
    "    # INSERT YOUR CODE BELOW    \n",
    "    # Update left or right according to the response\n",
    "    # ~ 7 lines\n",
    "    if response == \"yes\":\n",
    "        print(f\"The number is {guess}.\")\n",
    "        break\n",
    "    elif response == \"larger\":\n",
    "        left = guess + 1\n",
    "    elif response == \"smaller\":\n",
    "        right = guess - 1\n",
    "    else:\n",
    "        print(\"Invalid response. Please enter 'yes', 'larger', or 'smaller'.\")\n",
    "    \n",
    "    # terminate loop for autograder\n",
    "    cnt += 1\n",
    "    if cnt >= 15:\n",
    "        break"
   ]
  },
  {
   "attachments": {},
   "cell_type": "markdown",
   "id": "1a932c02",
   "metadata": {},
   "source": [
    "<!-- END QUESTION -->\n",
    "\n",
    "## Exercise 2: Insertion sort & pseudocode (25%)"
   ]
  },
  {
   "attachments": {},
   "cell_type": "markdown",
   "id": "37e11b6b",
   "metadata": {},
   "source": [
    "Below is the pseudocode of an **insertion sort** algorithm. Note that in this pseudocode the index starts from `1` instead of `0` and you will need to modify the code accordingly. \n",
    "```\n",
    "INSERTION_SORT(A)\n",
    "for j = 2 to A.length\n",
    "    key = A[j]\n",
    "    // Insert A[j] into the sorted sequence A[1..j-1]\n",
    "    i = j - 1\n",
    "    while i > 0 and A[i] > key\n",
    "        A[i+1] = A[i]\n",
    "        i = i - 1\n",
    "    A[i+1] = key\n",
    "```"
   ]
  },
  {
   "attachments": {},
   "cell_type": "markdown",
   "id": "a2fca716",
   "metadata": {},
   "source": [
    "Please do the following:\n",
    "1. Read the pseudo code and explain how **each line of the code** works. Before you start Googling about **insertion sort**, please spend 10 minutes reading the pseudocode and make sense of it! Discuss with your tutor if you are having trouble.\n",
    "2. Implement the pseudocode using Python in the cell below."
   ]
  },
  {
   "cell_type": "raw",
   "id": "d02413e5",
   "metadata": {},
   "source": [
    "# Answer the first part of the question in this cell.\n",
    "\n",
    "INSERTION_SORT(A) is the function declaration of the insertion sort algorithm, which takes an array A as its input and sorts it in ascending order.\n",
    "\n",
    "for j = 2 to A.length is a loop that starts from j = 2 and goes up to the length of the array A. The variable j represents the index of the element we are currently considering for insertion into the sorted sequence.\n",
    "\n",
    "key = A[j] stores the value of the element at index j in the variable key. This is the element that we want to insert into its correct position in the sorted subarray.\n",
    "\n",
    "i = j - 1 initialize the variable i to j - 1. The variable i represents the index of the last element in the sorted sequence. Initially, the sorted sequence contains only the element at index 1.\n",
    "\n",
    "while i > 0 and A [i] > key is a while loop that continues as long as i is greater than 0 (ensuring we don't go out of bounds) and the element at index i is greater than the key element. The loop is used to find the correct position in the sorted sequence to insert the key.\n",
    "\n",
    "A[i+1] = A[i] shifts the element at index i one position to the right to make space for the insertion of the key element in the while loop. This step effectively moves larger elements one position to the right to accommodate the new element in the correct position.\n",
    "\n",
    "i = i - 1 decrement i to move to the previous index in the sorted sequence and continue comparing with the previous element to find the correct insertion point.\n",
    "\n",
    "A[i+1] = key means we've found the correct position to insert the key element after the while loop is finished. We place the key element at index i + 1, which is the correct position in the sorted sequence.\n",
    "\n"
   ]
  },
  {
   "cell_type": "code",
   "execution_count": 2,
   "id": "c4027a36",
   "metadata": {
    "tags": []
   },
   "outputs": [
    {
     "name": "stdout",
     "output_type": "stream",
     "text": [
      "[3, 13, 14, 17, 28, 31, 35, 81, 86, 94]\n",
      "[3, 25, 28, 53, 69, 71, 77, 83, 89, 91]\n"
     ]
    }
   ],
   "source": [
    "def insert_sort(A):\n",
    "    for j in range(1, len(A)):\n",
    "        # INSERT YOUR CODE BELOW\n",
    "        # ~6 line\n",
    "        key = A[j]\n",
    "        i = j - 1\n",
    "        while i >= 0 and A[i] > key:\n",
    "            A[i + 1] = A[i]\n",
    "            i = i - 1\n",
    "        A[i + 1] = key\n",
    "    return A\n",
    "\n",
    "# =======================\n",
    "# EXAMPLE TESTING CASES\n",
    "# DO NOT CHANGE\n",
    "\n",
    "A = insert_sort([81, 14, 3, 94, 35, 31, 28, 17, 13, 86])\n",
    "print(A) # [3, 13, 14, 17, 28, 31, 35, 81, 86, 94]\n",
    "A = insert_sort([77, 3, 71, 25, 91, 83, 89, 69, 53, 28])\n",
    "print(A) # [3, 25, 28, 53, 69, 71, 77, 83, 89, 91]"
   ]
  },
  {
   "attachments": {},
   "cell_type": "markdown",
   "id": "f24125ce",
   "metadata": {},
   "source": [
    "## Exercise 3: Max Consecutive Identical Characters (25%)"
   ]
  },
  {
   "attachments": {},
   "cell_type": "markdown",
   "id": "7429dd06",
   "metadata": {},
   "source": [
    "Complete the following function such that when it is given a string, it returns the maximum number of consecutive identical characters within that string.\n",
    "\n",
    "**Example 1**\n",
    "\n",
    "- Input: `aabbccccddd`<br>\n",
    "- Output: 4<br>\n",
    "- Comment: The input has 2 consecutive `a`, 2 `b`, 4 `c`, 3 `d`, thus the maximum number of consecutive identical characters is 4.\n",
    "\n",
    "**Example 2**\n",
    "\n",
    "- Input: `abcffgfffffgg`<br>\n",
    "- Output: 5<br>\n",
    "- Comment: Although there are 7 `f`, the longest consecutive substring is `fffff` as there is a `g` between `ff` and `fffff`. \n",
    "**Example 3**\n",
    "\n",
    "- Input: `apple`<br>\n",
    "- Output: 2<br>"
   ]
  },
  {
   "cell_type": "code",
   "execution_count": 1,
   "id": "957d8272",
   "metadata": {
    "tags": []
   },
   "outputs": [
    {
     "name": "stdout",
     "output_type": "stream",
     "text": [
      "4\n",
      "5\n"
     ]
    }
   ],
   "source": [
    "def consec_char(input_str):\n",
    "    max_cnt = 1\n",
    "    cnt = 1\n",
    "    cur = input_str[0]\n",
    "    \n",
    "    for i in range(1, len(input_str)):\n",
    "        c = input_str[i]\n",
    "        # INSERT YOUR CODE BELOW\n",
    "        # hint: check if c is equal to cur. If not, update cur and check max_cnt\n",
    "        # <10 lines\n",
    "        if c == cur:\n",
    "            cnt += 1\n",
    "            if cnt > max_cnt:\n",
    "                max_cnt = cnt\n",
    "        else:\n",
    "            cnt = 1\n",
    "            cur = c\n",
    "\n",
    "    return max_cnt\n",
    "# =======================\n",
    "# EXAMPLE TESTING CASES\n",
    "# DO NOT CHANGE\n",
    "c = consec_char('aabbccccddd')\n",
    "print(c) # 4\n",
    "c = consec_char('abcffgfffffgg')\n",
    "print(c) # 5"
   ]
  },
  {
   "attachments": {},
   "cell_type": "markdown",
   "id": "19a1139c",
   "metadata": {},
   "source": [
    "## Excercise 4: Longest Continuous Decreasing Subsequence (25%)"
   ]
  },
  {
   "attachments": {},
   "cell_type": "markdown",
   "id": "770d318d",
   "metadata": {},
   "source": [
    "Complete the following function such that when it is given an unsorted array of integers `nums`, it returns the length of the longest continuous decreasing subsequence (i.e. subarray). The subsequence must be **strictly** decreasing.\n",
    "\n",
    "Formally, a continuous decreasing subsequence is defined by two indices l and r (l < r) such that it is [nums[l], nums[l + 1], ..., nums[r - 1], nums[r]] and for each l <= i < r, nums[i] > nums[i + 1].\n",
    "\n",
    "**Example 1** \n",
    "- input: `[3,5,4,3,2,7,1]`\n",
    "- output: 4\n",
    "- The longest continuous decreasing subsequence is `5432`. Note that although `54321` is the longest decreasing subsequence, it is not a continuous one as `7` is betweeen `2` and `1`\n",
    "\n",
    "**Example 2**\n",
    "- input: `[7,8,9,7,7,6,5,3,6]`\n",
    "- output: 4\n",
    "- The subsequence is [7, 6, 5, 3]. The numbers must be strictly decreasing, thus the 4th and 5th elements are both `7` and do not satisfy the requirement. \n",
    "\n",
    "**Example 3**\n",
    "- input: `[2,4,8,6,5,8]`\n",
    "- output: 3\n",
    "\n",
    "**Example 4**\n",
    "- input: `[1, 2, 3]`\n",
    "- output: 1\n",
    "- Special case when there is no continuous decreasing subsequence. "
   ]
  },
  {
   "cell_type": "code",
   "execution_count": 3,
   "id": "f4bdd51a",
   "metadata": {
    "tags": []
   },
   "outputs": [
    {
     "name": "stdout",
     "output_type": "stream",
     "text": [
      "4\n",
      "4\n"
     ]
    }
   ],
   "source": [
    "def lcds(array):\n",
    "    max_cnt = -1\n",
    "    # INSERT YOUR CODE BELOW\n",
    "    current_cnt = 1\n",
    "    for i in range(1, len(array)):\n",
    "        if array[i] < array[i - 1]:\n",
    "            current_cnt += 1\n",
    "        else:\n",
    "            current_cnt = 1\n",
    "\n",
    "        if current_cnt > max_cnt:\n",
    "            max_cnt = current_cnt\n",
    "\n",
    "    return max_cnt\n",
    "\n",
    "# =======================\n",
    "# EXAMPLE TESTING CASES\n",
    "# DO NOT CHANGE\n",
    "c = lcds([3,5,4,3,2,7,1])\n",
    "print(c) # 4\n",
    "c = lcds([7,8,9,7,7,6,5,3,6])\n",
    "print(c) # 4"
   ]
  }
 ],
 "metadata": {
  "kernelspec": {
   "display_name": "Python 3 (ipykernel)",
   "language": "python",
   "name": "python3"
  },
  "language_info": {
   "codemirror_mode": {
    "name": "ipython",
    "version": 3
   },
   "file_extension": ".py",
   "mimetype": "text/x-python",
   "name": "python",
   "nbconvert_exporter": "python",
   "pygments_lexer": "ipython3",
   "version": "3.9.6"
  },
  "otter": {
   "tests": {
    "Q2": {
     "name": "Q2",
     "points": 0.5,
     "suites": [
      {
       "cases": [
        {
         "code": ">>> insert_sort([-5, 10, 3])\n[-5, 3, 10]",
         "failure_message": "Incorrect answer, try again!",
         "hidden": false,
         "locked": false,
         "success_message": "Good job!"
        },
        {
         "code": ">>> insert_sort([-5, 13, -5, 10])\n[-5, -5, 10, 13]",
         "failure_message": "Incorrect answer, try again!",
         "hidden": false,
         "locked": false,
         "success_message": "Good job!"
        }
       ],
       "scored": true,
       "setup": "",
       "teardown": "",
       "type": "doctest"
      }
     ]
    },
    "Q3": {
     "name": "Q3",
     "points": 1,
     "suites": [
      {
       "cases": [
        {
         "code": ">>> consec_char('aaaddc')\n3",
         "failure_message": "Incorrect answer, try again!",
         "hidden": false,
         "locked": false,
         "success_message": "Good job!"
        },
        {
         "code": ">>> consec_char('abcwwww')\n4",
         "failure_message": "Incorrect answer, try again!",
         "hidden": false,
         "locked": false,
         "success_message": "Good job!"
        }
       ],
       "scored": true,
       "setup": "",
       "teardown": "",
       "type": "doctest"
      }
     ]
    },
    "Q4": {
     "name": "Q4",
     "points": 1,
     "suites": [
      {
       "cases": [
        {
         "code": ">>> lcds([5, 4, 3])\n3",
         "failure_message": "Incorrect answer, try again!",
         "hidden": false,
         "locked": false,
         "success_message": "Good job!"
        },
        {
         "code": ">>> lcds([4, 5, 4, 4, 3, 2, 1])\n4",
         "failure_message": "Incorrect answer, try again!",
         "hidden": false,
         "locked": false,
         "success_message": "Good job!"
        },
        {
         "code": ">>> lcds([4, 5, 6])\n1",
         "failure_message": "Incorrect answer, try again!",
         "hidden": false,
         "locked": false,
         "success_message": "Good job!"
        }
       ],
       "scored": true,
       "setup": "",
       "teardown": "",
       "type": "doctest"
      }
     ]
    }
   }
  }
 },
 "nbformat": 4,
 "nbformat_minor": 5
}
