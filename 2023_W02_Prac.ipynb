{
 "cells": [
  {
   "cell_type": "markdown",
   "id": "48af434b",
   "metadata": {},
   "source": [
    "# COMP SCI 2009 PIT W02 Practical "
   ]
  },
  {
   "cell_type": "markdown",
   "id": "c002190b",
   "metadata": {},
   "source": [
    "## Fibonacci number\n",
    "---"
   ]
  },
  {
   "cell_type": "markdown",
   "id": "2d91d830",
   "metadata": {},
   "source": [
    "The Fibonacci numbers are `0, 1, 1, 2, 3, 5, 8, 13, 21...`. \n",
    "\n",
    "The formula is `Fn = Fn-1 + Fn-2`, with `F0=0` and `F1=1`. \n",
    "\n",
    "For example,\n",
    "- `F2 = F1 + F0 = 1 + 0 = 1`\n",
    "-  `F3 = F2 + F1 = 1 + 1 = 2`\n",
    "-  `F4 = F3 + F2 = 2 + 1 = 3`\n",
    "- `F5 = F4 + F3 = 3 + 2 = 5`\n",
    "- ..."
   ]
  },
  {
   "cell_type": "markdown",
   "id": "0986584e",
   "metadata": {},
   "source": [
    "## Exercise 1: Fibanacci using iteration (25%)\n",
    "Please complete the function `fibo` below that prints the Fibonacci numbers using a **non-recursive** approach"
   ]
  },
  {
   "cell_type": "code",
   "execution_count": 3,
   "id": "04bfdab4",
   "metadata": {
    "tags": []
   },
   "outputs": [
    {
     "name": "stdout",
     "output_type": "stream",
     "text": [
      "f1 = 1\n",
      "f2 = 1\n",
      "f3 = 2\n",
      "f4 = 3\n",
      "f5 = 5\n"
     ]
    }
   ],
   "source": [
    "def fibo(n):\n",
    "    i = 1\n",
    "    f0 = 0\n",
    "    f1 = 1\n",
    "    fi = 1\n",
    "    while i < n+1:\n",
    "        print(f'f{i} = {fi}') \n",
    "        # INPUT YOUR CODE BELOW\n",
    "        # approx 3 lines\n",
    "        f0, f1 = f1, f0 + f1\n",
    "        fi = f1\n",
    "        i += 1\n",
    "# =======================\n",
    "# EXAMPLE TESTING CASES\n",
    "fibo(5)\n",
    "# output:\n",
    "# f1 = 1\n",
    "# f2 = 1\n",
    "# f3 = 2\n",
    "# f4 = 3\n",
    "# f5 = 5"
   ]
  },
  {
   "cell_type": "markdown",
   "id": "51cb63d4",
   "metadata": {},
   "source": [
    "## Exercise 2: Fibonacci using recursion (25%)\n",
    "Please complete the function `fibo_rec` below that returns the Fibonacci numbers using a **recursive** approach"
   ]
  },
  {
   "cell_type": "code",
   "execution_count": 8,
   "id": "c5a365f9",
   "metadata": {
    "tags": []
   },
   "outputs": [
    {
     "name": "stdout",
     "output_type": "stream",
     "text": [
      "f10 is: 55\n",
      "f20 is: 6765\n"
     ]
    }
   ],
   "source": [
    "def fibo_rec(n):\n",
    "    # INPUT YOUR CODE BELOW\n",
    "    # approx 4 lines\n",
    "        if n == 0:\n",
    "         return 0\n",
    "        elif n == 1:\n",
    "         return 1\n",
    "        else:\n",
    "         return fibo_rec(n - 1) + fibo_rec(n - 2)\n",
    "    \n",
    "# =======================\n",
    "# EXAMPLE TESTING CASES\n",
    "# DO NOT CHANGE\n",
    "n = 10\n",
    "print(f'f{n} is: {fibo_rec(n)}') # f10 is: 55\n",
    "\n",
    "n = 20\n",
    "print(f'f{n} is: {fibo_rec(n)}') # f20 is: 6765"
   ]
  },
  {
   "cell_type": "markdown",
   "id": "9bf6acae",
   "metadata": {},
   "source": [
    "## Task 3: Quick sort #1 (25%)\n",
    "Please implement the quick sort algorithm that \n",
    "1. sort the numbers in **ascending** order and\n",
    "1. uses the **first** element as the pivot."
   ]
  },
  {
   "cell_type": "code",
   "execution_count": 9,
   "id": "1d9ae770",
   "metadata": {
    "tags": []
   },
   "outputs": [
    {
     "name": "stdout",
     "output_type": "stream",
     "text": [
      "[12, 21, 23, 43]\n"
     ]
    }
   ],
   "source": [
    "import random\n",
    "\n",
    "def qsort(arr):\n",
    "    # YOUR CODE BELOW\n",
    "    # ~ 2 lines, the base case    \n",
    "    if len(arr) <= 1:\n",
    "        return arr\n",
    "    else:\n",
    "        # Read two lines below carefully, you will implement the partition function\n",
    "        lesser, greater = partition(arr)\n",
    "        return qsort(lesser) + [arr[0]] + qsort(greater) \n",
    "    \n",
    "def partition(arr):\n",
    "    lesser = []\n",
    "    greater = []\n",
    "    pivot = arr[0]\n",
    "    # YOUR CODE BELOW\n",
    "    # ~ 5 lines, create two lists: lesser and greater\n",
    "    for num in arr[1:]:\n",
    "        if num <= pivot:\n",
    "            lesser.append(num)\n",
    "        else:\n",
    "            greater.append(num)\n",
    "    return lesser, greater\n",
    "    \n",
    "# =======================\n",
    "# EXAMPLE TESTING CASES\n",
    "# DO NOT CHANGE\n",
    "A = [12, 23, 43, 21]\n",
    "arr = qsort(A)\n",
    "print(arr) #[12, 21, 23, 43]"
   ]
  },
  {
   "cell_type": "markdown",
   "id": "f7fd51fe",
   "metadata": {},
   "source": [
    "## Exercise 4: Quick sort #2 (25%)\n",
    "Please implement the quick sort algorithm that \n",
    "1. sort the numbers in **descending** order and\n",
    "1. uses **random** element as the pivot.\n",
    "\n",
    "For simplicity, you can assume all number in the array are unique."
   ]
  },
  {
   "cell_type": "code",
   "execution_count": 10,
   "id": "5ba39681",
   "metadata": {
    "tags": []
   },
   "outputs": [
    {
     "name": "stdout",
     "output_type": "stream",
     "text": [
      "[23, 16, 12, 9, 5]\n"
     ]
    }
   ],
   "source": [
    "import random\n",
    "\n",
    "def qsort_dec(arr):\n",
    "    # YOUR CODE BELOW\n",
    "    # ~5 LINES\n",
    "    # Copy and modify the qsort() function above\n",
    "    if len(arr) <= 1:\n",
    "        return arr\n",
    "    else:\n",
    "        lesser, greater, pivot = partition_dec(arr)\n",
    "        return qsort_dec(greater) + [pivot] + qsort_dec(lesser)\n",
    "    \n",
    "def partition_dec(arr):\n",
    "    lesser = []\n",
    "    greater = []\n",
    "    # YOUR CODE BELOW    \n",
    "    # ~ 6 lines, copy and update from Task 3\n",
    "    pivot_index = random.randint(0, len(arr) - 1)\n",
    "    pivot = arr[pivot_index]\n",
    "    for i, num in enumerate(arr):\n",
    "        if i == pivot_index:\n",
    "            continue\n",
    "        if num >= pivot:\n",
    "            greater.append(num)\n",
    "        else:\n",
    "            lesser.append(num)\n",
    "\n",
    "    return lesser, greater, pivot \n",
    "\n",
    "# =======================\n",
    "# EXAMPLE TESTING CASES\n",
    "# DO NOT CHANGE\n",
    "A = [5, 9, 12, 16, 23]\n",
    "arr = qsort_dec(A)\n",
    "print(arr) # [23, 16, 12, 9, 5]"
   ]
  }
 ],
 "metadata": {
  "kernelspec": {
   "display_name": "Python 3 (ipykernel)",
   "language": "python",
   "name": "python3"
  },
  "language_info": {
   "codemirror_mode": {
    "name": "ipython",
    "version": 3
   },
   "file_extension": ".py",
   "mimetype": "text/x-python",
   "name": "python",
   "nbconvert_exporter": "python",
   "pygments_lexer": "ipython3",
   "version": "3.10.11"
  },
  "otter": {
   "tests": {
    "Task 1": {
     "name": "Task 1",
     "points": 1,
     "suites": [
      {
       "cases": [
        {
         "code": ">>> fibo(10)\nf1 = 1\nf2 = 1\nf3 = 2\nf4 = 3\nf5 = 5\nf6 = 8\nf7 = 13\nf8 = 21\nf9 = 34\nf10 = 55\n",
         "failure_message": "Incorrect answer, try again!",
         "hidden": false,
         "locked": false,
         "success_message": "Good job!"
        }
       ],
       "scored": true,
       "setup": "",
       "teardown": "",
       "type": "doctest"
      }
     ]
    },
    "Task 2": {
     "name": "Task 2",
     "points": 1,
     "suites": [
      {
       "cases": [
        {
         "code": ">>> fibo_rec(5) == 5\nTrue",
         "failure_message": "Incorrect answer, try again!",
         "hidden": false,
         "locked": false,
         "success_message": "Good job!"
        },
        {
         "code": ">>> fibo_rec(10) == 55\nTrue",
         "failure_message": "Incorrect answer, try again!",
         "hidden": false,
         "locked": false,
         "success_message": "Good job!"
        }
       ],
       "scored": true,
       "setup": "",
       "teardown": "",
       "type": "doctest"
      }
     ]
    },
    "Task 3": {
     "name": "Task 3",
     "points": 1,
     "suites": [
      {
       "cases": [
        {
         "code": ">>> a = qsort([5, 3, 2, -5])\n>>> a[3] ==5 \nTrue",
         "failure_message": "Incorrect answer, try again!",
         "hidden": false,
         "locked": false,
         "success_message": "Good job!"
        }
       ],
       "scored": true,
       "setup": "",
       "teardown": "",
       "type": "doctest"
      }
     ]
    },
    "Task 4": {
     "name": "Task 4",
     "points": 1,
     "suites": [
      {
       "cases": [
        {
         "code": ">>> qsort_dec([98, 23, 43, 21, 53, 29])\n[98, 53, 43, 29, 23, 21]",
         "failure_message": "Incorrect answer, try again!",
         "hidden": false,
         "locked": false,
         "success_message": "Good job!"
        }
       ],
       "scored": true,
       "setup": "",
       "teardown": "",
       "type": "doctest"
      }
     ]
    }
   }
  }
 },
 "nbformat": 4,
 "nbformat_minor": 5
}
